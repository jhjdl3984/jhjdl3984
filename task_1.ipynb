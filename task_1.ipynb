{
 "cells": [
  {
   "cell_type": "markdown",
   "metadata": {},
   "source": [
    "안녕하세요. 수강생 여러분~! Chapter33 ~ 41 수업은 잘 들으셨나요?\n",
    "\n",
    "Chapter33 ~ 41의 수업 내용을 바탕으로 아래 문제를 풀어주시면 됩니다.\n",
    "\n",
    "\n",
    "<br>\n",
    "\n",
    "\n",
    "[**답변 입력 방법**]\n",
    "\n",
    "문제 아래에 있는 코드 입력창에 정답코드를 작성하신 후  __▷ 버튼을 클릭해 코드를 실행__ 해보세요<br>"
   ]
  },
  {
   "cell_type": "markdown",
   "metadata": {},
   "source": [
    "---"
   ]
  },
  {
   "cell_type": "markdown",
   "metadata": {},
   "source": [
    "[문제 1]\n",
    "\n",
    "사용자로부터 두 개의 숫자를 입력받아 나눗셈을 수행하는 프로그램을 작성하세요. \n",
    "\n",
    "[예외처리]\n",
    "- 입력 값이 숫자가 아닐 때 발생할 수 있는 ValueError\n",
    "- 나누는 수가 0일 때 발생할 수 있는 ZeroDivisionError\n",
    "- 위 2가지 예외처리 후 사용자에게 이해하기 쉬운 메시지 작성 후 출력되도록 코드를 작성"
   ]
  },
  {
   "cell_type": "code",
   "execution_count": null,
   "metadata": {},
   "outputs": [
    {
     "name": "stdout",
     "output_type": "stream",
     "text": [
      "2.0\n"
     ]
    }
   ],
   "source": [
    "try:\n",
    "    x, y = map(int, input(\"숫자를 입력해주세요:\").split(','))\n",
    "    print(x / y)\n",
    "except ValueError:\n",
    "    print(\"숫자로 입력해주세요\")\n",
    "except ZeroDivisionError:\n",
    "    print(\"0으론 나눌 수 없습니다.\")"
   ]
  },
  {
   "cell_type": "markdown",
   "metadata": {},
   "source": [
    "---"
   ]
  },
  {
   "cell_type": "markdown",
   "metadata": {},
   "source": [
    "[문제 2]\n",
    "\n",
    "파일을 읽어서 내용을 출력하는 프로그램을 작성하세요. \n",
    "\n",
    "- 파일이 존재하지 않을 때 발생하는 FileNotFoundError를 처리\n",
    "- 파일이 존재하지 않을 경우 \"파일을 찾을 수 없습니다.\"라는 메시지를 출력"
   ]
  },
  {
   "cell_type": "code",
   "execution_count": 18,
   "metadata": {},
   "outputs": [
    {
     "name": "stdout",
     "output_type": "stream",
     "text": [
      "파일을 찾을 수 없습니다.\n"
     ]
    }
   ],
   "source": [
    "try:\n",
    "    f = open(\"file.txt\", 'r')\n",
    "    s = f.read()\n",
    "    print(s)\n",
    "    f.close()\n",
    "except FileNotFoundError:\n",
    "    print(\"파일을 찾을 수 없습니다.\")"
   ]
  },
  {
   "cell_type": "markdown",
   "metadata": {},
   "source": [
    "---"
   ]
  },
  {
   "cell_type": "markdown",
   "metadata": {},
   "source": [
    "[문제 3]\n",
    "\n",
    "사용자로부터 여러 개의 숫자를 입력받아 리스트에 저장한 후, 사용자가 'done'이라고 입력할 때까지 계속 입력받으세요. \n",
    "\n",
    "- 입력 중 숫자가 아닌 값이 입력되면 ValueError를 처리\n",
    "- 숫자 외 값이 입력된 경우 어떤 값이 잘못 입력되었는지 사용자에게 알려주는 문구 출력<br>\n",
    "  (예: f\"잘못된 값: {변수}. 숫자를 입력해주세요.\")\n",
    "\n"
   ]
  },
  {
   "cell_type": "code",
   "execution_count": 32,
   "metadata": {},
   "outputs": [
    {
     "name": "stdout",
     "output_type": "stream",
     "text": [
      "잘못된 값: 3. 숫자를 입력해주세요.\n"
     ]
    }
   ],
   "source": [
    "number = []\n",
    "\n",
    "try:\n",
    "    while True:\n",
    "        x = int(input(\"숫자를 입력해주세요:\"))    # 잘못된 값을 넣었을 때, 그 바로 전에 넣었던 값이 exept문에 x 로 출력이 돼서 잘못된 코드\n",
    "        if x != \"done\":\n",
    "            number.append(x)\n",
    "        else:\n",
    "            break\n",
    "except ValueError:\n",
    "    print(f'잘못된 값: {x}. 숫자를 입력해주세요.')\n",
    "\n",
    "\n",
    "\n",
    "# number = []\n",
    "\n",
    "# while True:\n",
    "#     try:\n",
    "#         x = input(\"숫자를 입력해주세요:\")\n",
    "#         if x == \"done\":\n",
    "#             break\n",
    "#         number.append(int(x))\n",
    "#     except ValueError:\n",
    "#         print(f'잘못된 값: {x}. 숫자를 입력해주세요.')"
   ]
  },
  {
   "cell_type": "markdown",
   "metadata": {},
   "source": [
    "---"
   ]
  },
  {
   "cell_type": "markdown",
   "metadata": {},
   "source": [
    "[문제 4]\n",
    "\n",
    "사용자 정의 예외 NegativeNumberError를 생성하고, 사용자로부터 숫자를 입력받아 음수일 경우 NegativeNumberError를 발생시키는 프로그램을 작성하세요. \n",
    "\n",
    "- 예외 처리 구문을 사용하여 음수 입력 시 \"양수를 입력해주세요.\"라는 메시지를 출력"
   ]
  },
  {
   "cell_type": "code",
   "execution_count": 42,
   "metadata": {},
   "outputs": [
    {
     "ename": "TypeError",
     "evalue": "__init__() missing 1 required positional argument: 'message'",
     "output_type": "error",
     "traceback": [
      "\u001b[0;31m---------------------------------------------------------------------------\u001b[0m",
      "\u001b[0;31mTypeError\u001b[0m                                 Traceback (most recent call last)",
      "Cell \u001b[0;32mIn[42], line 4\u001b[0m\n\u001b[1;32m      2\u001b[0m     x \u001b[38;5;241m=\u001b[39m \u001b[38;5;28mint\u001b[39m(\u001b[38;5;28minput\u001b[39m(\u001b[38;5;124m\"\u001b[39m\u001b[38;5;124m숫자를 입력해주세요:\u001b[39m\u001b[38;5;124m\"\u001b[39m))\n\u001b[1;32m      3\u001b[0m     \u001b[38;5;28;01mif\u001b[39;00m x \u001b[38;5;241m<\u001b[39m \u001b[38;5;241m0\u001b[39m:\n\u001b[0;32m----> 4\u001b[0m         \u001b[38;5;28;01mraise\u001b[39;00m NegativeNumberError\n\u001b[1;32m      6\u001b[0m \u001b[38;5;28;01mexcept\u001b[39;00m NegativeNumberError:\n\u001b[1;32m      7\u001b[0m     \u001b[38;5;28mprint\u001b[39m(\u001b[38;5;124m\"\u001b[39m\u001b[38;5;124m양수를 입력해주세요.\u001b[39m\u001b[38;5;124m\"\u001b[39m)\n",
      "\u001b[0;31mTypeError\u001b[0m: __init__() missing 1 required positional argument: 'message'"
     ]
    }
   ],
   "source": [
    "try:\n",
    "    x = int(input(\"숫자를 입력해주세요:\"))\n",
    "    if x < 0:\n",
    "        raise NegativeNumberError\n",
    "\n",
    "except NegativeNumberError:\n",
    "    print(\"양수를 입력해주세요.\")\n",
    "\n",
    "\n",
    "# class NegativeNumberError(Exception):\n",
    "#     def __init__(self, message) -> None:\n",
    "#         self.contact_name = \"NegativeNumberError\"\n",
    "#         self.message = message\n",
    "#         super().__init__(message)\n",
    "\n",
    "#     def __str__(self) -> str:\n",
    "#         return f'{self.contact_name} : {self.message}'\n",
    "\n",
    "# try:\n",
    "#     x = int(input(\"숫자를 입력해주세요:\"))\n",
    "#     if x < 0:\n",
    "#         raise NegativeNumberError(\"양수를 입력해주세요.\")\n",
    "\n",
    "# except NegativeNumberError as e:\n",
    "#     print(e)\n"
   ]
  },
  {
   "cell_type": "markdown",
   "metadata": {},
   "source": [
    "---"
   ]
  },
  {
   "cell_type": "markdown",
   "metadata": {},
   "source": [
    "[문제 5]\n",
    "\n",
    "datetime 모듈을 사용하여 현재 날짜와 시간을 출력하는 프로그램을 작성하세요. \n",
    "\n",
    "또한, 사용자로부터 태어난 년도를 입력받아 현재 나이를 계산하여 출력하세요."
   ]
  },
  {
   "cell_type": "code",
   "execution_count": 55,
   "metadata": {},
   "outputs": [
    {
     "name": "stdout",
     "output_type": "stream",
     "text": [
      "2025-10-19 23:42:24.555111\n",
      "현재 나이: 28\n"
     ]
    }
   ],
   "source": [
    "import datetime\n",
    "\n",
    "now = datetime.datetime.now()\n",
    "\n",
    "print(now)\n",
    "\n",
    "x = input(\"태어난 년도를 입력해주세요:\")\n",
    "y = now.year - int(x)\n",
    "print(\"현재 나이:\", y)"
   ]
  },
  {
   "cell_type": "markdown",
   "metadata": {},
   "source": [
    "---"
   ]
  },
  {
   "cell_type": "markdown",
   "metadata": {},
   "source": [
    "[문제 6]\n",
    "\n",
    "requests 모듈을 사용하여, 웹 페이지의 HTML을 가져오는 간단한 웹 스크레이퍼를 작성하세요.\n",
    "\n",
    "'https://kream.co.kr/'에서<br> \n",
    "데이터를 가져와서 상태 코드와 HTML의 첫 100자를 출력하세요.<br>\n",
    "(실습 전 requests 모듈을 설치해야 함)"
   ]
  },
  {
   "cell_type": "code",
   "execution_count": 60,
   "metadata": {},
   "outputs": [
    {
     "name": "stdout",
     "output_type": "stream",
     "text": [
      "상태코드: 200\n",
      "HTML의 첫 100자: <!doctype html><html lang=\"en\"><head><title>Example Domain</title><meta name=\"viewport\" content=\"wid\n"
     ]
    }
   ],
   "source": [
    "# import requests\n",
    "\n",
    "# a = requests.urllib('https://kream.co.kr/')\n",
    "\n",
    "# print(\"상태코드:\", a.)\n",
    "# print(\"HTML의 첫 100자:\", a.)\n",
    "\n",
    "\n",
    "\n",
    "import requests\n",
    "\n",
    "response = requests.get('https://example.com')\n",
    "\n",
    "print(\"상태코드:\", response.status_code)\n",
    "print(\"HTML의 첫 100자:\", response.text[:100])\n",
    "\n"
   ]
  },
  {
   "cell_type": "markdown",
   "metadata": {},
   "source": [
    "---"
   ]
  },
  {
   "cell_type": "markdown",
   "metadata": {},
   "source": [
    "[문제 7]\n",
    "\n",
    "함수 실행 시간을 측정하는 데코레이터 timer_decorator를 작성하세요. \n",
    "\n",
    "임의의 함수가 실행되는 시간을 측정하여 \"함수 실행 시간: x.xx초\" 형태로 출력하세요."
   ]
  },
  {
   "cell_type": "code",
   "execution_count": 65,
   "metadata": {},
   "outputs": [
    {
     "name": "stdout",
     "output_type": "stream",
     "text": [
      "함수 실행 시간: 0.05초\n"
     ]
    },
    {
     "data": {
      "text/plain": [
       "499999500000"
      ]
     },
     "execution_count": 65,
     "metadata": {},
     "output_type": "execute_result"
    }
   ],
   "source": [
    "# import time\n",
    "\n",
    "# def timer_decorator(second):\n",
    "\n",
    "#     return \"함수 실행 시간:\", \"초\"\n",
    "\n",
    "\n",
    "# @timer_decorator\n",
    "# def \n",
    "\n",
    "\n",
    "\n",
    "import time\n",
    "\n",
    "def timer_decorator(func):\n",
    "    def wrapper(*args, **kwargs):\n",
    "        start_time = time.time()\n",
    "        result = func(*args, **kwargs)\n",
    "        end_time = time.time()\n",
    "        print(f\"함수 실행 시간: {end_time - start_time:.2f}초\")\n",
    "        return result\n",
    "    return wrapper\n",
    "\n",
    "@timer_decorator\n",
    "def example_function():\n",
    "    sum = 0\n",
    "    for i in range(1000000):\n",
    "        sum += i\n",
    "    return sum\n",
    "\n",
    "example_function()\n"
   ]
  },
  {
   "cell_type": "markdown",
   "metadata": {},
   "source": [
    "---"
   ]
  },
  {
   "cell_type": "markdown",
   "metadata": {},
   "source": [
    "[문제 8]\n",
    "\n",
    "여러분이 자주 사용하는 수학적 연산<br>\n",
    "(예: 삼각형 넓이, 원의 넓이, 직육면체의 넓이)을 수행하는 함수들을 포함하는 mymath.py라는 이름의 모듈을 만드세요. \n",
    "\n",
    "이 모듈을 사용하여 작성된 함수들을 실제로 임포트하고 사용하는 간단한 프로그램을 작성하세요."
   ]
  },
  {
   "cell_type": "code",
   "execution_count": null,
   "metadata": {},
   "outputs": [],
   "source": [
    "# #mymath.py 파일 생성\n",
    "# def triangle_area(base, height):\n",
    "#     return 0.5 * base * height\n",
    "\n",
    "# def circle_area(radius):\n",
    "#     return math.pi * radius ** 2\n",
    "\n",
    "# def cuboid_area(length, width, height):\n",
    "#     return 2 * (length * width + width * height + height * length)"
   ]
  },
  {
   "cell_type": "code",
   "execution_count": null,
   "metadata": {},
   "outputs": [],
   "source": [
    "# #실행 코드\n",
    "# from mymath import average, median, std_dev\n",
    "\n",
    "# numbers = [1, 2, 3, 4, 5]\n",
    "\n",
    "# triangle_area(3, 10)\n",
    "# print(\"삼각형의 넓이:\", triangle_area(base, height))\n",
    "\n",
    "# circle_area(4)\n",
    "# print(\"원의 넓이:\", circle_area(radius))\n",
    "\n",
    "# cuboid_area(5, 10, 4)\n",
    "# print(\"직육면체 넓이:\", cuboid_area(length, width, height))"
   ]
  },
  {
   "cell_type": "markdown",
   "metadata": {},
   "source": [
    "---"
   ]
  },
  {
   "cell_type": "markdown",
   "metadata": {},
   "source": [
    "[문제 9]\n",
    "\n",
    "animals라는 패키지를 만들고, 이 패키지 내에 mammals, birds라는 두 개의 서브 모듈을 생성하세요. \n",
    "\n",
    "- 각 모듈에는 최소한 한 개 이상의 동물에 관한 클래스를 정의하세요<br>\n",
    "  (예: mammals에는 Dog, birds에는 Eagle)\n",
    "- 이 패키지와 모듈을 사용하여 동물들의 정보를 출력하는 프로그램을 작성\n",
    "\n",
    "폴더 및 파일 구조\n",
    "```\n",
    "animals/(폴더)\n",
    "├── __init__.py\n",
    "├── mammals.py\n",
    "└── birds.py\n",
    "```\n"
   ]
  },
  {
   "cell_type": "code",
   "execution_count": null,
   "metadata": {},
   "outputs": [],
   "source": [
    "# def speak(self):\n",
    "#     return \"멍멍!\"\n",
    "\n",
    "# def __str__(self):\n",
    "#     return \"Dog\""
   ]
  },
  {
   "cell_type": "code",
   "execution_count": null,
   "metadata": {},
   "outputs": [],
   "source": [
    "# def speak(self):\n",
    "#     return \"소리질러!!\"\n",
    "\n",
    "# def __str__(self):\n",
    "#     return \"Eagle\""
   ]
  },
  {
   "cell_type": "code",
   "execution_count": null,
   "metadata": {},
   "outputs": [],
   "source": [
    "import ANIMALS.mammals as dong\n",
    "import ANIMALS.birds as eagle\n",
    "\n",
    "print(dog.)\n",
    "print(eagle.)\n",
    "\n",
    "\n",
    "\n",
    "# #실행 프로그램\n",
    "# from animals.mammals import Dog\n",
    "# from animals.birds import Eagle\n",
    "\n",
    "# dog = Dog()\n",
    "# print"
   ]
  },
  {
   "cell_type": "markdown",
   "metadata": {},
   "source": [
    "---"
   ]
  }
 ],
 "metadata": {
  "kernelspec": {
   "display_name": "Python 3",
   "language": "python",
   "name": "python3"
  },
  "language_info": {
   "codemirror_mode": {
    "name": "ipython",
    "version": 3
   },
   "file_extension": ".py",
   "mimetype": "text/x-python",
   "name": "python",
   "nbconvert_exporter": "python",
   "pygments_lexer": "ipython3",
   "version": "3.9.6"
  }
 },
 "nbformat": 4,
 "nbformat_minor": 2
}
